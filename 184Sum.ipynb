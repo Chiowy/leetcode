{
 "cells": [
  {
   "cell_type": "markdown",
   "metadata": {},
   "source": [
    "Given an array nums of n integers, return an array of all the ***unique*** quadruplets [nums[a]], nums[b], nums[c], nums[d] such that:\n",
    "\n",
    "- 0 <= a, b, c, d < n\n",
    "- a, b, c, and d are **distinct**.\n",
    "- nums[a] + nums[b] + nums[c] + nums[d] == target\n",
    "\n",
    "You may return the answer in **any order**.\n",
    "\n",
    "Example 1:\n",
    "\n",
    "> Input: nums = [1,0,-1,0,-2,2], target = 0\n",
    ">\n",
    "> Output: [[-2,-1,1,2],[-2,0,0,2],[-1,0,0,1]]\n",
    "\n",
    "Example 2:\n",
    "\n",
    "> Input: nums = [2,2,2,2,2], target = 8\n",
    ">\n",
    "> Output: [[2,2,2,2]]\n",
    " \n",
    "\n",
    "Constraints:\n",
    "\n",
    "> - $1 <= nums.length <= 200$\n",
    "> - $-10^9 <= nums[i] <= 10^9$\n",
    "> - $10^9 <= target <= 10^9$"
   ]
  },
  {
   "cell_type": "code",
   "execution_count": 3,
   "metadata": {},
   "outputs": [],
   "source": [
    "# 2021/11/22\n",
    "from typing import List\n",
    "class Solution:\n",
    "    def fourSum(self, nums: List[int], target: int) -> List[List[int]]:\n",
    "        n = len(nums)\n",
    "        temp = set()\n",
    "\n",
    "        if n > 200 or n < 4:\n",
    "            return list()\n",
    "        \n",
    "        if self.IfAbove(target):\n",
    "            return list()\n",
    "\n",
    "        for first in range(0, n-3):\n",
    "\n",
    "            if self.IfAbove(first): return list()\n",
    "            \n",
    "            for second in range(first+1, n-2):\n",
    "                \n",
    "                if self.IfAbove(second): return list()\n",
    "\n",
    "                for third in range(second+1, n-1):\n",
    "\n",
    "                    if self.IfAbove(third): return list()\n",
    "\n",
    "                    for fourth in range(third+1, n):\n",
    "\n",
    "                        if self.IfAbove(fourth): return list()\n",
    "\n",
    "                        sum = nums[first] + nums[second] + nums[third] + nums[fourth]\n",
    "                        if sum == target:\n",
    "                            temp.add((nums[first], nums[second], nums[third], nums[fourth]))\n",
    "        temp = list(temp)\n",
    "        return temp\n",
    "    def IfAbove(self, num: int) -> bool:\n",
    "        if num < -10**9 or num > 10**9:\n",
    "            return True\n",
    "        return False\n",
    "        "
   ]
  }
 ],
 "metadata": {
  "interpreter": {
   "hash": "a3949659082f76c3dce9af69e66ef5cf512c1e4dc52678c6ac146f322361f8d5"
  },
  "kernelspec": {
   "display_name": "Python 3.9.5 64-bit",
   "language": "python",
   "name": "python3"
  },
  "language_info": {
   "codemirror_mode": {
    "name": "ipython",
    "version": 3
   },
   "file_extension": ".py",
   "mimetype": "text/x-python",
   "name": "python",
   "nbconvert_exporter": "python",
   "pygments_lexer": "ipython3",
   "version": "3.9.5"
  },
  "orig_nbformat": 4
 },
 "nbformat": 4,
 "nbformat_minor": 2
}
