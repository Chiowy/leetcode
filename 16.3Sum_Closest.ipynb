{
 "cells": [
  {
   "cell_type": "code",
   "execution_count": 16,
   "metadata": {},
   "outputs": [
    {
     "name": "stdout",
     "output_type": "stream",
     "text": [
      "14 19 19\n",
      "18\n"
     ]
    }
   ],
   "source": [
    "# 2021/10/28 Thuesday\n",
    "import sys\n",
    "from typing import List\n",
    "class Solution:\n",
    "    def threeSumClosest(self, nums: List[int], target: int) -> int:\n",
    "        nums.sort()\n",
    "        sum = temp = 0\n",
    "        bia = sys.maxsize\n",
    "\n",
    "        for i in range(len(nums)):\n",
    "            if i > 0 and nums[i - 1] == nums[i]:continue\n",
    "            head, tail = i + 1, len(nums) - 1\n",
    "            while head < tail:\n",
    "                while head < tail and head > i + 1 and nums[head] == nums[head - 1]:\n",
    "                    head += 1\n",
    "                while head < tail and tail < len(nums) - 1 and nums[tail] == nums[tail + 1]:\n",
    "                    tail -= 1\n",
    "                sum = nums[i] + nums[head] + nums[tail]\n",
    "                if sum - target == 0: \n",
    "                    print(i, head, tail)\n",
    "                    return sum\n",
    "                else:\n",
    "                    if sum - target > 0:\n",
    "                        tail -= 1\n",
    "                    else:\n",
    "                        head += 1\n",
    "                    if abs(sum - target) < bia:\n",
    "                        bia = abs(sum - target)\n",
    "                        temp = sum\n",
    "        return temp\n",
    "\n",
    "nums = [-10,0,-2,3,-8,1,-10,8,-8,6,-7,0,-7,2,2,-5,-8,1,-4,6]\n",
    "target = 18\n",
    "ans = Solution().threeSumClosest(nums, target) \n",
    "print(ans)"
   ]
  },
  {
   "cell_type": "code",
   "execution_count": 12,
   "metadata": {},
   "outputs": [
    {
     "name": "stdout",
     "output_type": "stream",
     "text": [
      "18\n"
     ]
    }
   ],
   "source": [
    "nums = [-10,0,-2,3,-8,1,-10,8,-8,6,-7,0,-7,2,2,-5,-8,1,-4,6]\n",
    "target = 18\n",
    "ans = Solution().threeSumClosest(nums, target) \n",
    "print(ans)"
   ]
  }
 ],
 "metadata": {
  "interpreter": {
   "hash": "a3949659082f76c3dce9af69e66ef5cf512c1e4dc52678c6ac146f322361f8d5"
  },
  "kernelspec": {
   "display_name": "Python 3.9.5 64-bit",
   "name": "python3"
  },
  "language_info": {
   "codemirror_mode": {
    "name": "ipython",
    "version": 3
   },
   "file_extension": ".py",
   "mimetype": "text/x-python",
   "name": "python",
   "nbconvert_exporter": "python",
   "pygments_lexer": "ipython3",
   "version": "3.9.5"
  },
  "orig_nbformat": 4
 },
 "nbformat": 4,
 "nbformat_minor": 2
}
